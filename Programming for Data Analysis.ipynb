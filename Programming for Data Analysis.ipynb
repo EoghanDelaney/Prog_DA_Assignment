{
 "cells": [
  {
   "cell_type": "markdown",
   "metadata": {},
   "source": [
    "Programming for Data Analysis - Assignment 2019\n",
    "================================================="
   ]
  },
  {
   "cell_type": "markdown",
   "metadata": {},
   "source": [
    "#### Eoghan Delaney"
   ]
  },
  {
   "cell_type": "markdown",
   "metadata": {},
   "source": [
    "## Task 1. Explaining the package\n",
    "***"
   ]
  },
  {
   "cell_type": "markdown",
   "metadata": {},
   "source": [
    "    Numpy -\n",
    "***"
   ]
  },
  {
   "cell_type": "code",
   "execution_count": 4,
   "metadata": {},
   "outputs": [],
   "source": [
    "import numpy as np"
   ]
  },
  {
   "cell_type": "markdown",
   "metadata": {},
   "source": [
    "NumPy defines itself as 'the fundamental package for scientific computing with Python' [1]. Some of its features include a powerful N-dimentional array object, sophisticated functions, tools for integrating C/C++, Fortran code and finaly linear algebra, fourier transforms and random number capabilites. \n",
    "\n",
    "N-dimensional array can provide a multi-dimensional list or list within a list means of storing data, this structre can enable fast and easy calculations and data manipluation."
   ]
  },
  {
   "cell_type": "markdown",
   "metadata": {},
   "source": [
    "    NumPy.random -\n",
    "***"
   ]
  },
  {
   "cell_type": "code",
   "execution_count": 5,
   "metadata": {},
   "outputs": [],
   "source": [
    "import numpy.random as rand"
   ]
  },
  {
   "cell_type": "markdown",
   "metadata": {},
   "source": [
    "Utilising all the functionality in numpy, the numpy.random subpackge is a pseudo random value generator. The SciPy documentation [2] identifies that their are two influences on the pseudo random value - the BitGenerator and the Generators, both of which influence the \"randomly generated value\". \n",
    "\n",
    "The BitGenerator - \"These are typically unsigned integer words filled with sequences of either 32 or 64 random bits.\"[2]. The values are then influenced by the generators which are the probility distribution (or the likelyhood something is to happen), these will be discessed further below, but include, The Normal, Exponential, Laplace distributions. This random [3] algorithim is named Mersenne Twister (MT19937)."
   ]
  },
  {
   "cell_type": "markdown",
   "metadata": {},
   "source": [
    "## Task 2. Explain the use of the “Simple random data” and “Permutations” functions.\n",
    "***\n"
   ]
  },
  {
   "cell_type": "markdown",
   "metadata": {},
   "source": [
    "###     Task 2.1 Simple random Data"
   ]
  },
  {
   "cell_type": "markdown",
   "metadata": {},
   "source": [
    "Simple random Data"
   ]
  },
  {
   "cell_type": "markdown",
   "metadata": {},
   "source": [
    "### Task 2.2 Permutaions"
   ]
  },
  {
   "cell_type": "markdown",
   "metadata": {},
   "source": [
    "Permutaions"
   ]
  },
  {
   "cell_type": "markdown",
   "metadata": {},
   "source": [
    "## Taks 3. Distributions 5 Number\n",
    "***"
   ]
  },
  {
   "cell_type": "markdown",
   "metadata": {},
   "source": [
    "In this section we will discuss the numpy.random subpackage which randomly generates statistical distribution samples based on user defined peramiteres, the five selected to discuss in this section are - normal, laplace, exponential, chisquare and binomial."
   ]
  },
  {
   "cell_type": "code",
   "execution_count": 6,
   "metadata": {},
   "outputs": [],
   "source": [
    "''' We import all the graph packages to enable us to view the data visually '''\n",
    "import matplotlib.pyplot as plt\n",
    "import matplotlib.mlab as mlab"
   ]
  },
  {
   "cell_type": "markdown",
   "metadata": {},
   "source": [
    "#### 3.1 normal\n",
    "***"
   ]
  },
  {
   "cell_type": "markdown",
   "metadata": {},
   "source": [
    "The normal distribution is the most common probibility distruction in statistics, also known as the Guassian or Bell Curve. The bell shape is created when the data of a guassian distribution is plotted on a graph.\n",
    "\n",
    "This data is a certain measurable perameter of a group of similar specimens, some examples include heights/weight of a group of people, IQ scores or blood pressure in patients. The average or mean of these datapoints is the top of the bellcurve as it is most likely to accure. The standard deviation is the spread of these perameters. If we were to use the following example, heights of pupils in boys national school - the mean would be the average height of the pupils and the bellcurve would extend to the tallest and smallest student. The normal distribution plotted on the graph would illustrate the majority of pupils are in around average height and as we move away from the centre the extremes become less comman and therefore statistly less likely.\n",
    "\n",
    "The numpy.random.normal distribution can randomly generate a array following a bell curve probility patern. The mean, standard deviation and size is required followed by the sample size."
   ]
  },
  {
   "cell_type": "code",
   "execution_count": 7,
   "metadata": {},
   "outputs": [
    {
     "name": "stdout",
     "output_type": "stream",
     "text": [
      "The first twenty values of the ndarray are: [1.64587936 1.74083336 1.74524603 1.84558931 1.75946203 1.72555109\n",
      " 1.8417472  1.65282446 1.5957114  1.63723508 1.55452352 1.70847637\n",
      " 1.68785704 1.65246857 1.60182855 1.69677856 1.55246285 1.79733285\n",
      " 1.66462643 1.7200976 ]\n"
     ]
    }
   ],
   "source": [
    "# For this example we pick arbutrey heights for pupils in a class\n",
    "mean = 1.7 # 1.7m height\n",
    "stand = 0.1 # 0.2m standard deviation\n",
    "sample = 1000 #100 pupils in the class\n",
    "\n",
    "ClassHeight = np.random.normal(mean, stand, sample)\n",
    "print(\"The first twenty values of the ndarray are: \" + str(ClassHeight[:20]))"
   ]
  },
  {
   "cell_type": "markdown",
   "metadata": {},
   "source": [
    "We can now plot the above output on to a graph to give a visual repesentaion"
   ]
  },
  {
   "cell_type": "code",
   "execution_count": 8,
   "metadata": {},
   "outputs": [
    {
     "data": {
      "image/png": "[encoded data removed]",
      "text/plain": [
       "<Figure size 432x288 with 1 Axes>"
      ]
     },
     "metadata": {
      "needs_background": "light"
     },
     "output_type": "display_data"
    }
   ],
   "source": [
    "plt.hist(ClassHeight,25)\n",
    "plt.xlabel('height (m)')\n",
    "plt.ylabel('Number of pupils')\n",
    "plt.title('Normal Dist')\n",
    "plt.show()"
   ]
  },
  {
   "cell_type": "markdown",
   "metadata": {},
   "source": [
    "Using the Numpy documentation as reference we can introduce a trendline to give a clear dipition of the bellcurve. [2]"
   ]
  },
  {
   "cell_type": "code",
   "execution_count": 9,
   "metadata": {},
   "outputs": [
    {
     "data": {
      "image/png": "[encoded data removed]",
      "text/plain": [
       "<Figure size 432x288 with 1 Axes>"
      ]
     },
     "metadata": {
      "needs_background": "light"
     },
     "output_type": "display_data"
    }
   ],
   "source": [
    "''' The below code was adapted from the numpy website. To include the distribution line '''\n",
    "\n",
    "n, bins, patches = plt.hist(ClassHeight,25,density=True)\n",
    "y =  1/(stand * np.sqrt(2 * np.pi)) * np.exp( - (bins - mean)**2 / (2 * stand**2) )\n",
    "plt.plot(bins, y, linewidth=2, color='r')\n",
    "\n",
    "plt.plot(bins, y, 'r--')\n",
    "plt.xlabel('height (m)')\n",
    "plt.ylabel('Number of pupils')\n",
    "plt.title('Normal Dist')\n",
    "plt.show()"
   ]
  },
  {
   "cell_type": "markdown",
   "metadata": {},
   "source": [
    "The above data was randomly generated from the normal distrubtion function in numpy package. This data is set to statistly mimic real life distributions based on a predifined standard deviation and mean of the data."
   ]
  },
  {
   "cell_type": "markdown",
   "metadata": {},
   "source": [
    "#### 3.2 exponential\n",
    "***"
   ]
  },
  {
   "cell_type": "markdown",
   "metadata": {},
   "source": [
    "Exponential distribution is another statistical distribution that can be generated using the random function in NumPy. The exponential distribution is often concerned with the amount of time until some specific event occurs[4]. Some examples of this include the amount of time a long business call.\n",
    "\n"
   ]
  },
  {
   "cell_type": "code",
   "execution_count": 35,
   "metadata": {},
   "outputs": [
    {
     "name": "stdout",
     "output_type": "stream",
     "text": [
      "The first twenty values of the ndarray are: [0.04772925 0.07052217 0.06573359 0.23291269 0.05997659 0.28968299\n",
      " 0.02573915 0.33979499 0.12258936 0.1386566  0.01200988 0.02879201\n",
      " 0.04714802 0.17016661 0.01172366 0.03865248 0.06449962 0.04643509\n",
      " 0.075772   0.11049268]\n"
     ]
    }
   ],
   "source": [
    "scale =  1/0.5\n",
    "size = 400\n",
    "time = np.random.exponential(scale, size)\n",
    "\n",
    "print(\"The first twenty values of the ndarray are: \" + str(time[:20]))"
   ]
  },
  {
   "cell_type": "code",
   "execution_count": 36,
   "metadata": {},
   "outputs": [
    {
     "data": {
      "image/png": "[encoded data removed]",
      "text/plain": [
       "<Figure size 432x288 with 1 Axes>"
      ]
     },
     "metadata": {
      "needs_background": "light"
     },
     "output_type": "display_data"
    }
   ],
   "source": [
    "plt.hist(time,30)\n",
    "plt.xlabel('height (m)')\n",
    "plt.ylabel('Number of pupils')\n",
    "plt.title('Exponential Dist')\n",
    "plt.show()\n",
    "plt.show()"
   ]
  },
  {
   "cell_type": "markdown",
   "metadata": {},
   "source": [
    "#### 3.3 laplace\n",
    "***"
   ]
  },
  {
   "cell_type": "markdown",
   "metadata": {},
   "source": [
    "Laplace"
   ]
  },
  {
   "cell_type": "markdown",
   "metadata": {},
   "source": [
    "#### 3.4 chisquare\n",
    "***"
   ]
  },
  {
   "cell_type": "markdown",
   "metadata": {},
   "source": [
    "Chisquare"
   ]
  },
  {
   "cell_type": "markdown",
   "metadata": {},
   "source": [
    "#### 3.5 binomial\n",
    "***"
   ]
  },
  {
   "cell_type": "markdown",
   "metadata": {},
   "source": [
    "Binomial"
   ]
  },
  {
   "cell_type": "markdown",
   "metadata": {},
   "source": [
    "## 4. Explain the use of seeds in generating pseudorandom numbers.\n",
    "***\n"
   ]
  },
  {
   "cell_type": "markdown",
   "metadata": {},
   "source": [
    "1. https://numpy.org/\n",
    "2. https://docs.scipy.org/doc/numpy/reference/random/index.html\n",
    "3. https://docs.scipy.org/doc/numpy/reference/random/bit_generators/mt19937.html\n",
    "4. https://stats.libretexts.org/Bookshelves/Introductory_Statistics/Book%3A_Introductory_Statistics_(OpenStax)/05%3A_Continuous_Random_Variables/5.3%3A_The_Exponential_Distribution\n",
    "5. https://docs.w3cub.com/numpy~1.14/generated/numpy.random.exponential/\n",
    "6. https://www.youtube.com/watch?v=Ce_tWXEPTtY"
   ]
  },
  {
   "cell_type": "code",
   "execution_count": null,
   "metadata": {},
   "outputs": [],
   "source": []
  },
  {
   "cell_type": "code",
   "execution_count": null,
   "metadata": {},
   "outputs": [],
   "source": []
  }
 ],
 "metadata": {
  "kernelspec": {
   "display_name": "Python 3",
   "language": "python",
   "name": "python3"
  },
  "language_info": {
   "codemirror_mode": {
    "name": "ipython",
    "version": 3
   },
   "file_extension": ".py",
   "mimetype": "text/x-python",
   "name": "python",
   "nbconvert_exporter": "python",
   "pygments_lexer": "ipython3",
   "version": "3.7.1"
  }
 },
 "nbformat": 4,
 "nbformat_minor": 4
}
