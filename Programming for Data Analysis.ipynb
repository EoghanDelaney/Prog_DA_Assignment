{
 "cells": [
  {
   "cell_type": "markdown",
   "metadata": {},
   "source": [
    "Programming for Data Analysis - Assignment 2019\n",
    "================================================="
   ]
  },
  {
   "cell_type": "markdown",
   "metadata": {},
   "source": [
    "#### Eoghan Delaney"
   ]
  },
  {
   "cell_type": "markdown",
   "metadata": {},
   "source": [
    "## Task 1. Explaining the package\n",
    "***"
   ]
  },
  {
   "cell_type": "markdown",
   "metadata": {},
   "source": [
    "Numpy -\n",
    "***"
   ]
  },
  {
   "cell_type": "code",
   "execution_count": 5,
   "metadata": {},
   "outputs": [],
   "source": [
    "import numpy as np"
   ]
  },
  {
   "cell_type": "markdown",
   "metadata": {},
   "source": [
    "NumPy defines itself as 'the fundamental package for scientific computing with Python' [1]. Some of its features include a powerful N-dimentional array object, sophisticated functions, tools for integrating C/C++, Fortran code and finaly linear algebra, fourier transforms and random number capabilites. According to _'geeksforgeeks.org'_\n",
    "\n",
    "N-dimensional array can provide a multi-dimensional list or list within a list means of storing data, this structre can enable fast and easy calculations and data manipluation."
   ]
  },
  {
   "cell_type": "markdown",
   "metadata": {},
   "source": [
    "NumPy.random -\n",
    "***"
   ]
  },
  {
   "cell_type": "code",
   "execution_count": 6,
   "metadata": {},
   "outputs": [],
   "source": [
    "import numpy.random as rand"
   ]
  },
  {
   "cell_type": "markdown",
   "metadata": {},
   "source": [
    "Utilising all the functionality in numpy, the numpy.random subpackge is a pseudo random value generator. The SciPy documentation [2] identifies that their are two influences on the pseudo random value - the BitGenerator and the Generators, both of which influence the \"randomly generated value\". \n",
    "\n",
    "The BitGenerator \"These are typically unsigned integer words filled with sequences of either 32 or 64 random bits.\"[2]. The values are then influenced by the generators which are the probility distribution (or the likelyhood something is to happen), these will be discessed further below Normal, Exponential, Laplace distributions. This random [3] algorithim is named Mersenne Twister (MT19937)."
   ]
  },
  {
   "cell_type": "markdown",
   "metadata": {},
   "source": [
    "## Task 2. Explain the use of the “Simple random data” and “Permutations” functions.\n",
    "***\n"
   ]
  },
  {
   "cell_type": "markdown",
   "metadata": {},
   "source": [
    "###     Task 2.1 Simple random Data"
   ]
  },
  {
   "cell_type": "markdown",
   "metadata": {},
   "source": [
    "### Task 2.2 Permutaions"
   ]
  },
  {
   "cell_type": "markdown",
   "metadata": {},
   "source": [
    "## Taks 3. Distributions 5 Number\n",
    "***"
   ]
  },
  {
   "cell_type": "markdown",
   "metadata": {},
   "source": [
    "In this section we will discuss the numpy.random subpackage which randomly generates statistical distribution samples based on user defined peramiteres, the five selected to discuss in this section are - normal, laplace, exponential, chisquare and binomial."
   ]
  },
  {
   "cell_type": "code",
   "execution_count": 2,
   "metadata": {},
   "outputs": [],
   "source": [
    "''' We import all the graph packages to enable us to view the data visually '''\n",
    "import matplotlib.pyplot as plt\n",
    "import matplotlib.mlab as mlab"
   ]
  },
  {
   "cell_type": "markdown",
   "metadata": {},
   "source": [
    "#### 3.1 normal\n"
   ]
  },
  {
   "cell_type": "markdown",
   "metadata": {},
   "source": [
    "The normal distribution is the most common probibility distruction in statistics, also known as the Guassian or Bell Curve. The bell shape is created when the data of a guassian distribution is plotted on a graph.\n",
    "\n",
    "This data is a certain measurable perameter of a group of similar specimens, some examples include heights/weight of a group of people, IQ scores or blood pressure in patients. The average or mean of these datapoints is the top of the bellcurve as it is most likely to accure. The standard deviation is the spread of these perameters. If we were to use the following example, heights of pupils in boys national school - the mean would be the average height of the pupils and the bellcurve would extend to the tallest and smallest student. The normal distribution plotted on the graph would illustrate the majority of pupils are in around average height and as we move away from the centre the extremes become less comman and therefore statistly less likely.\n",
    "\n",
    "The numpy.random.normal distribution can randomly generate a array following a bell curve probility patern. The mean, standard deviation and size is required followed by the sample size."
   ]
  },
  {
   "cell_type": "code",
   "execution_count": 18,
   "metadata": {},
   "outputs": [
    {
     "name": "stdout",
     "output_type": "stream",
     "text": [
      "The first twenty values of the ndarray are: [1.69164155 1.78194092 1.63346553 1.84700766 1.72017937 1.6690881\n",
      " 1.7566955  1.8942388  1.74887707 1.75217553 1.64122866 1.84778095\n",
      " 1.87930403 1.66399166 1.65099751 1.61171076 1.74695782 1.70506887\n",
      " 1.65044316 1.69605394]\n"
     ]
    }
   ],
   "source": [
    "# For this example we pick arbutrey heights for pupils in a class\n",
    "mean = 1.7 # 1.7m height\n",
    "stand = 0.1 # 0.2m standard deviation\n",
    "sample = 1000 #100 pupils in the class\n",
    "\n",
    "ClassHeight = np.random.normal(mean, stand, sample)\n",
    "print(\"The first twenty values of the ndarray are: \" + str(ClassHeight[:20]))"
   ]
  },
  {
   "cell_type": "markdown",
   "metadata": {},
   "source": [
    "We can now plot the above output on to a graph to give a visual repesentaion"
   ]
  },
  {
   "cell_type": "code",
   "execution_count": 8,
   "metadata": {},
   "outputs": [
    {
     "data": {
      "image/png": "[encoded data removed]",
      "text/plain": [
       "<Figure size 432x288 with 1 Axes>"
      ]
     },
     "metadata": {
      "needs_background": "light"
     },
     "output_type": "display_data"
    }
   ],
   "source": [
    "plt.hist(ClassHeight,25)\n",
    "plt.xlabel('height (m)')\n",
    "plt.ylabel('Number of pupils')\n",
    "plt.title('Normal Dist')\n",
    "plt.show()"
   ]
  },
  {
   "cell_type": "markdown",
   "metadata": {},
   "source": [
    "Using the Numpy documentation as reference we can introduce a trendline to give a clear dipition of the bellcurve. [2]"
   ]
  },
  {
   "cell_type": "code",
   "execution_count": 10,
   "metadata": {},
   "outputs": [
    {
     "data": {
      "image/png": "[encoded data removed]",
      "text/plain": [
       "<Figure size 432x288 with 1 Axes>"
      ]
     },
     "metadata": {
      "needs_background": "light"
     },
     "output_type": "display_data"
    }
   ],
   "source": [
    "''' The below code was adapted from the numpy website. To include the distribution line '''\n",
    "\n",
    "n, bins, patches = plt.hist(ClassHeight,25,density=True)\n",
    "y =  1/(stand * np.sqrt(2 * np.pi)) * np.exp( - (bins - mean)**2 / (2 * stand**2) )\n",
    "plt.plot(bins, y, linewidth=2, color='r')\n",
    "\n",
    "plt.plot(bins, y, 'r--')\n",
    "plt.xlabel('height (m)')\n",
    "plt.ylabel('Number of pupils')\n",
    "plt.title('Normal Dist')\n",
    "plt.show()"
   ]
  },
  {
   "cell_type": "markdown",
   "metadata": {},
   "source": [
    "The above data was randomly generated from the normal distrubtion function in numpy package. This data is set to statistly mimic real life distributions based on a predifined standard deviation and mean of the data."
   ]
  },
  {
   "cell_type": "markdown",
   "metadata": {},
   "source": [
    "#### 3.2 exponential"
   ]
  },
  {
   "cell_type": "markdown",
   "metadata": {},
   "source": [
    "#### 3.3 laplace"
   ]
  },
  {
   "cell_type": "markdown",
   "metadata": {},
   "source": [
    "#### 3.4 chisquare"
   ]
  },
  {
   "cell_type": "markdown",
   "metadata": {},
   "source": [
    "#### 3.5 binomial"
   ]
  },
  {
   "cell_type": "markdown",
   "metadata": {},
   "source": [
    "## 4. Explain the use of seeds in generating pseudorandom numbers.\n",
    "***\n"
   ]
  },
  {
   "cell_type": "markdown",
   "metadata": {},
   "source": [
    "1. https://numpy.org/\n",
    "2. https://docs.scipy.org/doc/numpy/reference/random/index.html\n",
    "3. https://docs.scipy.org/doc/numpy/reference/random/bit_generators/mt19937.html\n"
   ]
  },
  {
   "cell_type": "code",
   "execution_count": null,
   "metadata": {},
   "outputs": [],
   "source": []
  }
 ],
 "metadata": {
  "kernelspec": {
   "display_name": "Python 3",
   "language": "python",
   "name": "python3"
  },
  "language_info": {
   "codemirror_mode": {
    "name": "ipython",
    "version": 3
   },
   "file_extension": ".py",
   "mimetype": "text/x-python",
   "name": "python",
   "nbconvert_exporter": "python",
   "pygments_lexer": "ipython3",
   "version": "3.7.1"
  }
 },
 "nbformat": 4,
 "nbformat_minor": 4
}
